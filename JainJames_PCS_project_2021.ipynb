{
  "nbformat": 4,
  "nbformat_minor": 0,
  "metadata": {
    "colab": {
      "name": "JainJames_PCS_project_2021.ipynb",
      "provenance": [],
      "collapsed_sections": []
    },
    "kernelspec": {
      "display_name": "Python 3",
      "name": "python3"
    },
    "language_info": {
      "name": "python"
    }
  },
  "cells": [
    {
      "cell_type": "code",
      "metadata": {
        "colab": {
          "base_uri": "https://localhost:8080/"
        },
        "id": "haQInyFpuL18",
        "outputId": "660a1383-9c41-4b9e-9a37-d88b6cd40498"
      },
      "source": [
        "import requests\n",
        "from datetime import datetime\n",
        "\n",
        "API_key = '1ca55642392f0f95a5ea7b65eff86f41'\n",
        "location = input(\"\\nEnter the City Name: \")\n",
        " \n",
        "complete_API_link = \"https://api.openweathermap.org/data/2.5/weather?q=\"+location+\"&appid=\"+API_key\n",
        "API_link = requests.get(complete_API_link)\n",
        "API_data = API_link.json()\n",
        "\n",
        "# create variables to store and display data\n",
        "\n",
        "tmp_city = ((API_data['main']['temp']) - 273.15)\n",
        "weather_desc = API_data['weather'][0]['description']\n",
        "humdt = API_data['main']['humidity']\n",
        "wind_spd = API_data['wind']['speed']\n",
        "date_tym = datetime.now().strftime(\"%d %b %Y | %I:%M:%S %p\")\n",
        "\n",
        "print(\"_________________________________________________________\")\n",
        "print('Weather Stats for - {} || {}'.format(location.upper(), date_tym))\n",
        "print(\"_________________________________________________________\")\n",
        "\n",
        "print(\"Current Temperature         : {:.2f} deg C\".format(tmp_city))\n",
        "print(\"Current Weather Description : \",weather_desc)\n",
        "print(\"Current Humidity            : \",humdt,'%')\n",
        "print(\"Current Wind Speed          : \",wind_spd, 'kmph')\n",
        "print(\"**********************************************************\\n\")\n"
      ],
      "execution_count": 12,
      "outputs": [
        {
          "output_type": "stream",
          "text": [
            "\n",
            "Enter the City Name: srinagar\n",
            "_________________________________________________________\n",
            "Weather Stats for - SRINAGAR || 23 Jun 2021 | 02:02:51 PM\n",
            "_________________________________________________________\n",
            "Current Temperature         : 19.92 deg C\n",
            "Current Weather Description :  few clouds\n",
            "Current Humidity            :  63 %\n",
            "Current Wind Speed          :  6.11 kmph\n",
            "**********************************************************\n",
            "\n"
          ],
          "name": "stdout"
        }
      ]
    }
  ]
}